import numpy as np
import matplotlib.pyplot as plt
from scipy.optimize import curve_fit

# Misalkan kita memiliki data berikut
x = np.array([1, 2, 3, 4, 5, 6, 7, 8, 9, 10])
y = np.array([2.3, 2.9, 3.6, 4.4, 5.1, 6.0, 6.8, 7.5, 8.3, 9.0])

# Metode 1: Model Linear
# Menggunakan polyfit untuk regresi linear
coefficients = np.polyfit(x, y, 1)  # 1 menunjukkan derajat polinomial (linear)
a_linear, b_linear = coefficients

# Membuat prediksi
y_pred_linear = a_linear * x + b_linear

# Menampilkan hasil regresi linear
plt.scatter(x, y, label='Data Asli')
plt.plot(x, y_pred_linear, color='red', label='Regresi Linear')
plt.legend()
plt.title('Regresi Linear')
plt.xlabel('x')
plt.ylabel('y')
plt.show()

print(f"Model Linear: y = {a_linear:.2f}x + {b_linear:.2f}")

# Metode 2: Model Pangkat Sederhana
# Fungsi model pangkat sederhana
def power_law(x, a, b):
    return a * np.power(x, b)

# Menggunakan curve_fit untuk regresi model pangkat
params, _ = curve_fit(power_law, x, y)
a_power, b_power = params

# Membuat prediksi
y_pred_power = power_law(x, a_power, b_power)

# Menampilkan hasil regresi model pangkat
plt.scatter(x, y, label='Data Asli')
plt.plot(x, y_pred_power, color='green', label='Regresi Pangkat')
plt.legend()
plt.title('Regresi Pangkat Sederhana')
plt.xlabel('x')
plt.ylabel('y')
plt.show()

print(f"Model Pangkat: y = {a_power:.2f}x^{b_power:.2f}")
